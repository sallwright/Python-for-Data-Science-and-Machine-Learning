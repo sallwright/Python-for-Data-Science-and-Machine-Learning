{
 "cells": [
  {
   "cell_type": "code",
   "execution_count": 9,
   "metadata": {
    "collapsed": true
   },
   "outputs": [],
   "source": [
    "import pandas as pd\n",
    "df = pd.DataFrame(pd.read_csv('Pandas Exercises/Ecommerce Purchases'))"
   ]
  },
  {
   "cell_type": "markdown",
   "metadata": {},
   "source": [
    "# Finding some interesting data from the CSV file"
   ]
  },
  {
   "cell_type": "code",
   "execution_count": 11,
   "metadata": {},
   "outputs": [
    {
     "data": {
      "text/html": [
       "<div>\n",
       "<style scoped>\n",
       "    .dataframe tbody tr th:only-of-type {\n",
       "        vertical-align: middle;\n",
       "    }\n",
       "\n",
       "    .dataframe tbody tr th {\n",
       "        vertical-align: top;\n",
       "    }\n",
       "\n",
       "    .dataframe thead th {\n",
       "        text-align: right;\n",
       "    }\n",
       "</style>\n",
       "<table border=\"1\" class=\"dataframe\">\n",
       "  <thead>\n",
       "    <tr style=\"text-align: right;\">\n",
       "      <th></th>\n",
       "      <th>Address</th>\n",
       "      <th>Lot</th>\n",
       "      <th>AM or PM</th>\n",
       "      <th>Browser Info</th>\n",
       "      <th>Company</th>\n",
       "      <th>Credit Card</th>\n",
       "      <th>CC Exp Date</th>\n",
       "      <th>CC Security Code</th>\n",
       "      <th>CC Provider</th>\n",
       "      <th>Email</th>\n",
       "      <th>Job</th>\n",
       "      <th>IP Address</th>\n",
       "      <th>Language</th>\n",
       "      <th>Purchase Price</th>\n",
       "    </tr>\n",
       "  </thead>\n",
       "  <tbody>\n",
       "    <tr>\n",
       "      <th>0</th>\n",
       "      <td>16629 Pace Camp Apt. 448\\nAlexisborough, NE 77...</td>\n",
       "      <td>46 in</td>\n",
       "      <td>PM</td>\n",
       "      <td>Opera/9.56.(X11; Linux x86_64; sl-SI) Presto/2...</td>\n",
       "      <td>Martinez-Herman</td>\n",
       "      <td>6011929061123406</td>\n",
       "      <td>02/20</td>\n",
       "      <td>900</td>\n",
       "      <td>JCB 16 digit</td>\n",
       "      <td>pdunlap@yahoo.com</td>\n",
       "      <td>Scientist, product/process development</td>\n",
       "      <td>149.146.147.205</td>\n",
       "      <td>el</td>\n",
       "      <td>98.14</td>\n",
       "    </tr>\n",
       "    <tr>\n",
       "      <th>1</th>\n",
       "      <td>9374 Jasmine Spurs Suite 508\\nSouth John, TN 8...</td>\n",
       "      <td>28 rn</td>\n",
       "      <td>PM</td>\n",
       "      <td>Opera/8.93.(Windows 98; Win 9x 4.90; en-US) Pr...</td>\n",
       "      <td>Fletcher, Richards and Whitaker</td>\n",
       "      <td>3337758169645356</td>\n",
       "      <td>11/18</td>\n",
       "      <td>561</td>\n",
       "      <td>Mastercard</td>\n",
       "      <td>anthony41@reed.com</td>\n",
       "      <td>Drilling engineer</td>\n",
       "      <td>15.160.41.51</td>\n",
       "      <td>fr</td>\n",
       "      <td>70.73</td>\n",
       "    </tr>\n",
       "    <tr>\n",
       "      <th>2</th>\n",
       "      <td>Unit 0065 Box 5052\\nDPO AP 27450</td>\n",
       "      <td>94 vE</td>\n",
       "      <td>PM</td>\n",
       "      <td>Mozilla/5.0 (compatible; MSIE 9.0; Windows NT ...</td>\n",
       "      <td>Simpson, Williams and Pham</td>\n",
       "      <td>675957666125</td>\n",
       "      <td>08/19</td>\n",
       "      <td>699</td>\n",
       "      <td>JCB 16 digit</td>\n",
       "      <td>amymiller@morales-harrison.com</td>\n",
       "      <td>Customer service manager</td>\n",
       "      <td>132.207.160.22</td>\n",
       "      <td>de</td>\n",
       "      <td>0.95</td>\n",
       "    </tr>\n",
       "    <tr>\n",
       "      <th>3</th>\n",
       "      <td>7780 Julia Fords\\nNew Stacy, WA 45798</td>\n",
       "      <td>36 vm</td>\n",
       "      <td>PM</td>\n",
       "      <td>Mozilla/5.0 (Macintosh; Intel Mac OS X 10_8_0 ...</td>\n",
       "      <td>Williams, Marshall and Buchanan</td>\n",
       "      <td>6011578504430710</td>\n",
       "      <td>02/24</td>\n",
       "      <td>384</td>\n",
       "      <td>Discover</td>\n",
       "      <td>brent16@olson-robinson.info</td>\n",
       "      <td>Drilling engineer</td>\n",
       "      <td>30.250.74.19</td>\n",
       "      <td>es</td>\n",
       "      <td>78.04</td>\n",
       "    </tr>\n",
       "    <tr>\n",
       "      <th>4</th>\n",
       "      <td>23012 Munoz Drive Suite 337\\nNew Cynthia, TX 5...</td>\n",
       "      <td>20 IE</td>\n",
       "      <td>AM</td>\n",
       "      <td>Opera/9.58.(X11; Linux x86_64; it-IT) Presto/2...</td>\n",
       "      <td>Brown, Watson and Andrews</td>\n",
       "      <td>6011456623207998</td>\n",
       "      <td>10/25</td>\n",
       "      <td>678</td>\n",
       "      <td>Diners Club / Carte Blanche</td>\n",
       "      <td>christopherwright@gmail.com</td>\n",
       "      <td>Fine artist</td>\n",
       "      <td>24.140.33.94</td>\n",
       "      <td>es</td>\n",
       "      <td>77.82</td>\n",
       "    </tr>\n",
       "  </tbody>\n",
       "</table>\n",
       "</div>"
      ],
      "text/plain": [
       "                                             Address    Lot AM or PM  \\\n",
       "0  16629 Pace Camp Apt. 448\\nAlexisborough, NE 77...  46 in       PM   \n",
       "1  9374 Jasmine Spurs Suite 508\\nSouth John, TN 8...  28 rn       PM   \n",
       "2                   Unit 0065 Box 5052\\nDPO AP 27450  94 vE       PM   \n",
       "3              7780 Julia Fords\\nNew Stacy, WA 45798  36 vm       PM   \n",
       "4  23012 Munoz Drive Suite 337\\nNew Cynthia, TX 5...  20 IE       AM   \n",
       "\n",
       "                                        Browser Info  \\\n",
       "0  Opera/9.56.(X11; Linux x86_64; sl-SI) Presto/2...   \n",
       "1  Opera/8.93.(Windows 98; Win 9x 4.90; en-US) Pr...   \n",
       "2  Mozilla/5.0 (compatible; MSIE 9.0; Windows NT ...   \n",
       "3  Mozilla/5.0 (Macintosh; Intel Mac OS X 10_8_0 ...   \n",
       "4  Opera/9.58.(X11; Linux x86_64; it-IT) Presto/2...   \n",
       "\n",
       "                           Company       Credit Card CC Exp Date  \\\n",
       "0                  Martinez-Herman  6011929061123406       02/20   \n",
       "1  Fletcher, Richards and Whitaker  3337758169645356       11/18   \n",
       "2       Simpson, Williams and Pham      675957666125       08/19   \n",
       "3  Williams, Marshall and Buchanan  6011578504430710       02/24   \n",
       "4        Brown, Watson and Andrews  6011456623207998       10/25   \n",
       "\n",
       "   CC Security Code                  CC Provider  \\\n",
       "0               900                 JCB 16 digit   \n",
       "1               561                   Mastercard   \n",
       "2               699                 JCB 16 digit   \n",
       "3               384                     Discover   \n",
       "4               678  Diners Club / Carte Blanche   \n",
       "\n",
       "                            Email                                     Job  \\\n",
       "0               pdunlap@yahoo.com  Scientist, product/process development   \n",
       "1              anthony41@reed.com                       Drilling engineer   \n",
       "2  amymiller@morales-harrison.com                Customer service manager   \n",
       "3     brent16@olson-robinson.info                       Drilling engineer   \n",
       "4     christopherwright@gmail.com                             Fine artist   \n",
       "\n",
       "        IP Address Language  Purchase Price  \n",
       "0  149.146.147.205       el           98.14  \n",
       "1     15.160.41.51       fr           70.73  \n",
       "2   132.207.160.22       de            0.95  \n",
       "3     30.250.74.19       es           78.04  \n",
       "4     24.140.33.94       es           77.82  "
      ]
     },
     "execution_count": 11,
     "metadata": {},
     "output_type": "execute_result"
    }
   ],
   "source": [
    "df.head()"
   ]
  },
  {
   "cell_type": "code",
   "execution_count": 17,
   "metadata": {},
   "outputs": [
    {
     "data": {
      "text/plain": [
       "50.34730200000025"
      ]
     },
     "execution_count": 17,
     "metadata": {},
     "output_type": "execute_result"
    }
   ],
   "source": [
    "df['Purchase Price'].mean()"
   ]
  },
  {
   "cell_type": "code",
   "execution_count": 18,
   "metadata": {},
   "outputs": [
    {
     "data": {
      "text/plain": [
       "99.989999999999995"
      ]
     },
     "execution_count": 18,
     "metadata": {},
     "output_type": "execute_result"
    }
   ],
   "source": [
    "df['Purchase Price'].max()"
   ]
  },
  {
   "cell_type": "code",
   "execution_count": 19,
   "metadata": {},
   "outputs": [
    {
     "data": {
      "text/plain": [
       "0.0"
      ]
     },
     "execution_count": 19,
     "metadata": {},
     "output_type": "execute_result"
    }
   ],
   "source": [
    "df['Purchase Price'].min()"
   ]
  },
  {
   "cell_type": "code",
   "execution_count": 25,
   "metadata": {},
   "outputs": [
    {
     "data": {
      "text/plain": [
       "ru    1155\n",
       "de    1155\n",
       "el    1137\n",
       "Name: Language, dtype: int64"
      ]
     },
     "execution_count": 25,
     "metadata": {},
     "output_type": "execute_result"
    }
   ],
   "source": [
    "df['Language'].value_counts().head(3)"
   ]
  },
  {
   "cell_type": "markdown",
   "metadata": {},
   "source": [
    "How many people in the data set spoke English and also ordered their product in the evening?"
   ]
  },
  {
   "cell_type": "code",
   "execution_count": 29,
   "metadata": {},
   "outputs": [
    {
     "data": {
      "text/plain": [
       "579"
      ]
     },
     "execution_count": 29,
     "metadata": {},
     "output_type": "execute_result"
    }
   ],
   "source": [
    "len(df[(df['Language'] == 'en') & (df['AM or PM'] == 'PM')])"
   ]
  },
  {
   "cell_type": "markdown",
   "metadata": {},
   "source": [
    "What is the most popular email address domain?"
   ]
  },
  {
   "cell_type": "code",
   "execution_count": 31,
   "metadata": {},
   "outputs": [
    {
     "data": {
      "text/plain": [
       "hotmail.com     1638\n",
       "yahoo.com       1616\n",
       "gmail.com       1605\n",
       "smith.com         42\n",
       "williams.com      37\n",
       "Name: Email, dtype: int64"
      ]
     },
     "execution_count": 31,
     "metadata": {},
     "output_type": "execute_result"
    }
   ],
   "source": [
    "df['Email'].apply(lambda x: x.split('@')[1]).value_counts().head(5)"
   ]
  },
  {
   "cell_type": "markdown",
   "metadata": {},
   "source": [
    "How many different types of browser are there?"
   ]
  },
  {
   "cell_type": "code",
   "execution_count": 33,
   "metadata": {},
   "outputs": [
    {
     "data": {
      "text/plain": [
       "Mozilla/5.0 (compatible; MSIE 8.0; Windows NT 6.2; Trident/3.1)                                                                                       12\n",
       "Mozilla/5.0 (compatible; MSIE 9.0; Windows 95; Trident/4.1)                                                                                           12\n",
       "Mozilla/5.0 (compatible; MSIE 9.0; Windows CE; Trident/4.1)                                                                                           12\n",
       "Mozilla/5.0 (compatible; MSIE 5.0; Windows NT 6.0; Trident/3.0)                                                                                       12\n",
       "Mozilla/5.0 (compatible; MSIE 5.0; Windows NT 6.2; Trident/5.0)                                                                                       11\n",
       "Mozilla/5.0 (compatible; MSIE 9.0; Windows NT 6.0; Trident/4.0)                                                                                       11\n",
       "Mozilla/5.0 (compatible; MSIE 8.0; Windows CE; Trident/5.0)                                                                                           11\n",
       "Mozilla/5.0 (compatible; MSIE 8.0; Windows NT 5.2; Trident/5.0)                                                                                       11\n",
       "Mozilla/5.0 (compatible; MSIE 8.0; Windows NT 6.1; Trident/4.0)                                                                                       11\n",
       "Mozilla/5.0 (compatible; MSIE 9.0; Windows NT 5.01; Trident/5.0)                                                                                      11\n",
       "Mozilla/5.0 (compatible; MSIE 7.0; Windows NT 4.0; Trident/5.0)                                                                                       10\n",
       "Mozilla/5.0 (compatible; MSIE 8.0; Windows NT 6.0; Trident/4.0)                                                                                       10\n",
       "Mozilla/5.0 (compatible; MSIE 5.0; Windows NT 6.1; Trident/3.0)                                                                                       10\n",
       "Mozilla/5.0 (compatible; MSIE 7.0; Windows NT 5.1; Trident/4.0)                                                                                       10\n",
       "Mozilla/5.0 (compatible; MSIE 7.0; Windows NT 5.2; Trident/3.1)                                                                                       10\n",
       "Mozilla/5.0 (compatible; MSIE 7.0; Windows NT 5.01; Trident/4.1)                                                                                      10\n",
       "Mozilla/5.0 (compatible; MSIE 9.0; Windows CE; Trident/3.1)                                                                                           10\n",
       "Mozilla/5.0 (compatible; MSIE 7.0; Windows 95; Trident/3.1)                                                                                           10\n",
       "Mozilla/5.0 (compatible; MSIE 8.0; Windows 95; Trident/3.1)                                                                                           10\n",
       "Mozilla/5.0 (compatible; MSIE 7.0; Windows NT 5.1; Trident/4.1)                                                                                       10\n",
       "Mozilla/5.0 (compatible; MSIE 5.0; Windows NT 4.0; Trident/4.0)                                                                                        9\n",
       "Mozilla/5.0 (compatible; MSIE 6.0; Windows NT 4.0; Trident/3.1)                                                                                        9\n",
       "Mozilla/5.0 (compatible; MSIE 5.0; Windows CE; Trident/3.0)                                                                                            9\n",
       "Mozilla/5.0 (compatible; MSIE 7.0; Windows 98; Trident/5.0)                                                                                            9\n",
       "Mozilla/5.0 (compatible; MSIE 9.0; Windows NT 6.2; Trident/5.1)                                                                                        9\n",
       "Mozilla/5.0 (compatible; MSIE 9.0; Windows NT 6.2; Trident/3.1)                                                                                        9\n",
       "Mozilla/5.0 (compatible; MSIE 7.0; Windows 98; Trident/4.1)                                                                                            9\n",
       "Mozilla/5.0 (compatible; MSIE 7.0; Windows NT 5.1; Trident/3.0)                                                                                        9\n",
       "Mozilla/5.0 (compatible; MSIE 9.0; Windows NT 6.1; Trident/5.0)                                                                                        9\n",
       "Mozilla/5.0 (compatible; MSIE 8.0; Windows 98; Trident/4.0)                                                                                            9\n",
       "                                                                                                                                                      ..\n",
       "Opera/8.96.(Windows NT 6.2; it-IT) Presto/2.9.170 Version/11.00                                                                                        1\n",
       "Mozilla/5.0 (iPod; U; CPU iPhone OS 3_3 like Mac OS X; it-IT) AppleWebKit/534.30.4 (KHTML, like Gecko) Version/4.0.5 Mobile/8B111 Safari/6534.30.4     1\n",
       "Mozilla/5.0 (X11; Linux x86_64; rv:1.9.5.20) Gecko/2011-05-19 14:58:45 Firefox/4.0                                                                     1\n",
       "Opera/8.95.(X11; Linux x86_64; sl-SI) Presto/2.9.161 Version/12.00                                                                                     1\n",
       "Mozilla/5.0 (Macintosh; U; Intel Mac OS X 10_6_3 rv:5.0; it-IT) AppleWebKit/533.15.4 (KHTML, like Gecko) Version/5.0.1 Safari/533.15.4                 1\n",
       "Mozilla/5.0 (iPod; U; CPU iPhone OS 4_2 like Mac OS X; sl-SI) AppleWebKit/533.31.5 (KHTML, like Gecko) Version/4.0.5 Mobile/8B112 Safari/6533.31.5     1\n",
       "Opera/9.62.(Windows 98; Win 9x 4.90; sl-SI) Presto/2.9.187 Version/10.00                                                                               1\n",
       "Mozilla/5.0 (Windows 98; Win 9x 4.90) AppleWebKit/5342 (KHTML, like Gecko) Chrome/15.0.888.0 Safari/5342                                               1\n",
       "Mozilla/5.0 (Windows NT 4.0; sl-SI; rv:1.9.0.20) Gecko/2013-03-02 07:01:33 Firefox/3.6.5                                                               1\n",
       "Mozilla/5.0 (iPod; U; CPU iPhone OS 4_2 like Mac OS X; sl-SI) AppleWebKit/533.13.5 (KHTML, like Gecko) Version/4.0.5 Mobile/8B113 Safari/6533.13.5     1\n",
       "Mozilla/5.0 (X11; Linux x86_64; rv:1.9.5.20) Gecko/2011-01-17 01:17:19 Firefox/3.6.18                                                                  1\n",
       "Mozilla/5.0 (Macintosh; Intel Mac OS X 10_8_7; rv:1.9.5.20) Gecko/2014-02-25 01:50:17 Firefox/3.8                                                      1\n",
       "Mozilla/5.0 (iPod; U; CPU iPhone OS 4_1 like Mac OS X; it-IT) AppleWebKit/534.13.5 (KHTML, like Gecko) Version/4.0.5 Mobile/8B111 Safari/6534.13.5     1\n",
       "Mozilla/5.0 (Windows NT 6.1) AppleWebKit/5361 (KHTML, like Gecko) Chrome/13.0.825.0 Safari/5361                                                        1\n",
       "Mozilla/5.0 (Windows 95) AppleWebKit/5351 (KHTML, like Gecko) Chrome/14.0.831.0 Safari/5351                                                            1\n",
       "Mozilla/5.0 (Windows; U; Windows 95) AppleWebKit/535.40.1 (KHTML, like Gecko) Version/4.1 Safari/535.40.1                                              1\n",
       "Mozilla/5.0 (X11; Linux i686; rv:1.9.6.20) Gecko/2014-05-14 11:30:21 Firefox/12.0                                                                      1\n",
       "Mozilla/5.0 (Macintosh; PPC Mac OS X 10_5_3 rv:3.0; sl-SI) AppleWebKit/534.5.3 (KHTML, like Gecko) Version/5.0.2 Safari/534.5.3                        1\n",
       "Mozilla/5.0 (Macintosh; PPC Mac OS X 10_5_3; rv:1.9.6.20) Gecko/2014-10-15 00:08:02 Firefox/3.8                                                        1\n",
       "Mozilla/5.0 (X11; Linux x86_64; rv:1.9.5.20) Gecko/2012-10-17 17:51:04 Firefox/7.0                                                                     1\n",
       "Mozilla/5.0 (Macintosh; U; Intel Mac OS X 10_8_7 rv:5.0; en-US) AppleWebKit/534.3.6 (KHTML, like Gecko) Version/4.0.3 Safari/534.3.6                   1\n",
       "Mozilla/5.0 (X11; Linux i686; rv:1.9.7.20) Gecko/2015-06-25 21:08:03 Firefox/3.8                                                                       1\n",
       "Mozilla/5.0 (X11; Linux x86_64) AppleWebKit/5321 (KHTML, like Gecko) Chrome/14.0.858.0 Safari/5321                                                     1\n",
       "Mozilla/5.0 (Macintosh; U; PPC Mac OS X 10_8_3 rv:4.0; it-IT) AppleWebKit/531.39.3 (KHTML, like Gecko) Version/5.0 Safari/531.39.3                     1\n",
       "Opera/9.13.(Windows 98; Win 9x 4.90; it-IT) Presto/2.9.183 Version/11.00                                                                               1\n",
       "Mozilla/5.0 (Windows; U; Windows NT 5.2) AppleWebKit/534.48.5 (KHTML, like Gecko) Version/4.0.5 Safari/534.48.5                                        1\n",
       "Opera/9.23.(Windows NT 5.1; en-US) Presto/2.9.171 Version/12.00                                                                                        1\n",
       "Mozilla/5.0 (Macintosh; U; PPC Mac OS X 10_5_4) AppleWebKit/5312 (KHTML, like Gecko) Chrome/14.0.808.0 Safari/5312                                     1\n",
       "Mozilla/5.0 (iPod; U; CPU iPhone OS 4_0 like Mac OS X; sl-SI) AppleWebKit/531.21.3 (KHTML, like Gecko) Version/4.0.5 Mobile/8B112 Safari/6531.21.3     1\n",
       "Mozilla/5.0 (Macintosh; U; Intel Mac OS X 10_6_5; rv:1.9.2.20) Gecko/2011-01-02 22:47:33 Firefox/3.8                                                   1\n",
       "Name: Browser Info, Length: 8287, dtype: int64"
      ]
     },
     "execution_count": 33,
     "metadata": {},
     "output_type": "execute_result"
    }
   ],
   "source": [
    "df['Browser Info'].value_counts()"
   ]
  },
  {
   "cell_type": "markdown",
   "metadata": {},
   "source": [
    "How many people are using Mastercard as their card provider?"
   ]
  },
  {
   "cell_type": "code",
   "execution_count": 34,
   "metadata": {},
   "outputs": [
    {
     "data": {
      "text/plain": [
       "816"
      ]
     },
     "execution_count": 34,
     "metadata": {},
     "output_type": "execute_result"
    }
   ],
   "source": [
    "len(df[df['CC Provider'] == 'Mastercard'])"
   ]
  },
  {
   "cell_type": "markdown",
   "metadata": {},
   "source": [
    "How many people have a credit card that will expire next year, 2019?"
   ]
  },
  {
   "cell_type": "code",
   "execution_count": 42,
   "metadata": {},
   "outputs": [
    {
     "data": {
      "text/plain": [
       "995"
      ]
     },
     "execution_count": 42,
     "metadata": {},
     "output_type": "execute_result"
    }
   ],
   "source": [
    "len(df[df['CC Exp Date'].apply(lambda x: x[3:]) == '19'])"
   ]
  },
  {
   "cell_type": "code",
   "execution_count": null,
   "metadata": {
    "collapsed": true
   },
   "outputs": [],
   "source": []
  }
 ],
 "metadata": {
  "kernelspec": {
   "display_name": "Python 3",
   "language": "python",
   "name": "python3"
  },
  "language_info": {
   "codemirror_mode": {
    "name": "ipython",
    "version": 3
   },
   "file_extension": ".py",
   "mimetype": "text/x-python",
   "name": "python",
   "nbconvert_exporter": "python",
   "pygments_lexer": "ipython3",
   "version": "3.6.3"
  }
 },
 "nbformat": 4,
 "nbformat_minor": 2
}
